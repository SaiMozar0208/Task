{
 "cells": [
  {
   "cell_type": "code",
   "execution_count": 1,
   "id": "5a1027cc-b5e1-4605-ba2a-f90229923e9b",
   "metadata": {},
   "outputs": [],
   "source": [
    "import pandas as pd\n",
    "import matplotlib.pyplot as plt"
   ]
  },
  {
   "cell_type": "code",
   "execution_count": 2,
   "id": "25bfc61d-67b0-482f-81cf-109b187ad53a",
   "metadata": {},
   "outputs": [],
   "source": [
    "df = pd.read_csv('netflix_titles.csv')"
   ]
  },
  {
   "cell_type": "markdown",
   "id": "c9c72a48-5df6-45d9-8a31-797221848db6",
   "metadata": {},
   "source": [
    "# Print The names of all TV shows released in 2020"
   ]
  },
  {
   "cell_type": "code",
   "execution_count": 3,
   "id": "05d45d19-216f-43e1-9232-6030403cd0d5",
   "metadata": {},
   "outputs": [
    {
     "name": "stdout",
     "output_type": "stream",
     "text": [
      "0                                        3%\n",
      "24      ​SAINT SEIYA: Knights of the Zodiac\n",
      "26                                 (Un)Well\n",
      "29                                 #blackAF\n",
      "53                               100 Humans\n",
      "                       ...                 \n",
      "7663                           Workin' Moms\n",
      "7670                    World's Most Wanted\n",
      "7720                   YooHoo to the Rescue\n",
      "7725                        You Cannot Hide\n",
      "7738                        Young Wallander\n",
      "Name: title, Length: 457, dtype: object\n"
     ]
    }
   ],
   "source": [
    "tv_shows_2020 = df[(df['type'] == 'TV Show') & (df['release_year'] == 2020)]\n",
    "print(tv_shows_2020['title'])"
   ]
  },
  {
   "cell_type": "markdown",
   "id": "24219716-c0cb-4b14-a19b-b3d2152b2423",
   "metadata": {},
   "source": [
    "# Sort  and print the names of movies in the \"Horror Movies\"category"
   ]
  },
  {
   "cell_type": "code",
   "execution_count": 4,
   "id": "80dd2c39-cf28-4b86-b82b-40d0699a2c16",
   "metadata": {},
   "outputs": [
    {
     "name": "stdout",
     "output_type": "stream",
     "text": [
      "27                #Alive\n",
      "6                    122\n",
      "62            13 Cameras\n",
      "65               13 Sins\n",
      "69            14 Cameras\n",
      "              ...       \n",
      "7673    Would You Rather\n",
      "7687                  XX\n",
      "7714         Yoga Hosers\n",
      "7778          Zombieland\n",
      "41            Ég man þig\n",
      "Name: title, Length: 312, dtype: object\n"
     ]
    }
   ],
   "source": [
    "horror_movies_sorted = df[(df['type'] == 'Movie') & (df['listed_in'].str.contains('Horror', na=False))]['title'].sort_values()\n",
    "print(horror_movies_sorted)"
   ]
  },
  {
   "cell_type": "markdown",
   "id": "fa89c9a5-f0e9-4023-badc-3ab905675e15",
   "metadata": {},
   "source": [
    "# Count movies with a runtime less than 60 minutes"
   ]
  },
  {
   "cell_type": "code",
   "execution_count": 5,
   "id": "263724e0-1438-4acb-b997-16078f096416",
   "metadata": {},
   "outputs": [
    {
     "name": "stdout",
     "output_type": "stream",
     "text": [
      "786\n"
     ]
    }
   ],
   "source": [
    "documentaries_count = df[df['listed_in'].str.contains('Documentaries', na=False)].shape[0]\n",
    "print(documentaries_count)"
   ]
  },
  {
   "cell_type": "markdown",
   "id": "0afb8789-f6ad-444c-8d5b-43a03fbd5a03",
   "metadata": {},
   "source": [
    "# Print the titles and release years of movies directed by Christopher Nolan"
   ]
  },
  {
   "cell_type": "code",
   "execution_count": 7,
   "id": "759fe98b-b2f7-4f1a-ada5-9ddb67fdaa7d",
   "metadata": {},
   "outputs": [
    {
     "name": "stdout",
     "output_type": "stream",
     "text": [
      "          title  release_year\n",
      "2979  Inception          2010\n"
     ]
    }
   ],
   "source": [
    "nolan_movies = df[(df['director'] == 'Christopher Nolan') & (df['type'] == 'Movie')]\n",
    "print(nolan_movies[['title', 'release_year']])\n"
   ]
  },
  {
   "cell_type": "markdown",
   "id": "92f8d891-ddcb-432e-ad87-cf60c741506d",
   "metadata": {},
   "source": [
    "# Count movies with a runtime less than 60 minutes"
   ]
  },
  {
   "cell_type": "code",
   "execution_count": 8,
   "id": "7cea7040-2524-4179-a3d5-6d32c9c67c61",
   "metadata": {},
   "outputs": [
    {
     "name": "stdout",
     "output_type": "stream",
     "text": [
      "420\n"
     ]
    }
   ],
   "source": [
    "df['duration_min'] = df['duration'].str.extract('(\\d+)').astype(int)\n",
    "short_movies_count = df[(df['type'] == 'Movie') & (df['duration_min'] < 60)].shape[0]\n",
    "print(short_movies_count)\n"
   ]
  },
  {
   "cell_type": "markdown",
   "id": "45f5da6c-5e52-4553-8d45-eb160426f8f4",
   "metadata": {},
   "source": [
    "# Count TV shows with more than 5 seasons"
   ]
  },
  {
   "cell_type": "code",
   "execution_count": 9,
   "id": "44941ae0-5775-4dd3-afcc-0ddbfe272546",
   "metadata": {},
   "outputs": [
    {
     "name": "stdout",
     "output_type": "stream",
     "text": [
      "91\n"
     ]
    }
   ],
   "source": [
    "df['seasons_count'] = df['duration'].str.extract('(\\d+)').astype(float)\n",
    "five_seasons = df[(df['type'] == 'TV Show') & (df['seasons_count'] > 5)].shape[0]\n",
    "print(five_seasons)"
   ]
  },
  {
   "cell_type": "markdown",
   "id": "817d140c-8fd8-45ce-9528-c6b60ea52a14",
   "metadata": {},
   "source": [
    "# Print the names of TV shows with the word \"Detective\" in their title"
   ]
  },
  {
   "cell_type": "code",
   "execution_count": 11,
   "id": "02d552c8-f454-408b-a187-a63f99c610be",
   "metadata": {},
   "outputs": [
    {
     "name": "stdout",
     "output_type": "stream",
     "text": [
      "4504    Noddy Toyland Detective\n",
      "6403         The Good Detective\n",
      "6488       The Indian Detective\n",
      "6693      The Murder Detectives\n",
      "7206       Treehouse Detectives\n",
      "Name: title, dtype: object\n"
     ]
    }
   ],
   "source": [
    "\n",
    "detective_shows = df[(df['type'] == 'TV Show') & (df['title'].str.contains('Detective', na=False))]\n",
    "print(detective_shows['title'])"
   ]
  },
  {
   "cell_type": "code",
   "execution_count": 12,
   "id": "5913065c-1d84-40c1-a9b6-98822e4c3085",
   "metadata": {},
   "outputs": [],
   "source": [
    "#Coloumn Not Given In Dataset"
   ]
  },
  {
   "cell_type": "markdown",
   "id": "39756e93-1b1e-4ffc-98d8-4677d4a2cdcd",
   "metadata": {},
   "source": [
    "# Find information about the oldest and newest releases"
   ]
  },
  {
   "cell_type": "code",
   "execution_count": 14,
   "id": "35645ea5-3529-467c-83c1-73678189980d",
   "metadata": {},
   "outputs": [
    {
     "name": "stdout",
     "output_type": "stream",
     "text": [
      "Oldest:                                   title  release_year\n",
      "4867  Pioneers: First Women Filmmakers*          1925\n",
      "Newest:                                                   title  release_year\n",
      "980                                        Bling Empire          2021\n",
      "1222                                    Carmen Sandiego          2021\n",
      "1285                                           Charming          2021\n",
      "1355  Chris Rock Total Blackout: The Tamborine Exten...          2021\n",
      "1440                                          Cobra Kai          2021\n",
      "1514            Crack: Cocaine, Corruption & Conspiracy          2021\n",
      "1528                        Creating The Queen's Gambit          2021\n",
      "1780                                     Disenchantment          2021\n",
      "1864                                Dream Home Makeover          2021\n",
      "2327                                  Gabby's Dollhouse          2021\n",
      "2672                      Headspace Guide to Meditation          2021\n",
      "2741                                              Hilda          2021\n",
      "2753                             History of Swear Words          2021\n",
      "3018                Inside the World’s Toughest Prisons          2021\n",
      "3822                                              Lupin          2021\n",
      "4086                 Mighty Little Bheem: Kite Festival          2021\n",
      "4173                                            Monarca          2021\n",
      "4390                                  Nailed It! Mexico          2021\n",
      "4468        Night Stalker: The Hunt for a Serial Killer          2021\n",
      "4710                                   Outside the Wire          2021\n",
      "4965                                Pretend It’s a City          2021\n",
      "5103  Ratones Paranoicos: The Band that Rocked Argen...          2021\n",
      "5859                                        Stuck Apart          2021\n",
      "5921                                    Surviving Death          2021\n",
      "6477                               The Idhun Chronicles          2021\n",
      "6670                       The Minimalists: Less Is Now          2021\n",
      "6701                             The Netflix Afterparty          2021\n",
      "7220                      Tribhanga - Tedhi Medhi Crazy          2021\n",
      "7551                          What Happened to Mr. Cha?          2021\n",
      "7569                        What Would Sophia Loren Do?          2021\n",
      "7644                                           Wish You          2021\n"
     ]
    }
   ],
   "source": [
    "oldest = df[df['release_year'] == df['release_year'].min()]\n",
    "newest = df[df['release_year'] == df['release_year'].max()]\n",
    "print('Oldest:', oldest[['title', 'release_year']])\n",
    "print('Newest:', newest[['title', 'release_year']])"
   ]
  },
  {
   "cell_type": "markdown",
   "id": "1928e820-d9e5-4752-911e-53491ed5c25e",
   "metadata": {},
   "source": [
    "# Plot the distribution of movies and TV shows by release yea"
   ]
  },
  {
   "cell_type": "code",
   "execution_count": 15,
   "id": "fc531a6c-c06b-4679-ad0f-7a250ade9f98",
   "metadata": {},
   "outputs": [
    {
     "data": {
      "text/plain": [
       "<Figure size 3000x2000 with 0 Axes>"
      ]
     },
     "metadata": {},
     "output_type": "display_data"
    },
    {
     "data": {
      "image/png": "[encoded data removed]",
      "text/plain": [
       "<Figure size 640x480 with 2 Axes>"
      ]
     },
     "metadata": {},
     "output_type": "display_data"
    }
   ],
   "source": [
    "\n",
    "plt.figure(figsize=(30, 20))\n",
    "df['release_year'].hist(by=df['type'], bins=range(1980, 2022), alpha=0.7, edgecolor='black')\n",
    "plt.suptitle('Distribution of Movies and TV Shows by Release Year', fontsize=16)\n",
    "plt.xlabel('Release Year', fontsize=14)\n",
    "plt.ylabel('Count', fontsize=14)\n",
    "plt.xticks(fontsize=12)\n",
    "plt.yticks(fontsize=12)\n",
    "plt.grid(True)\n",
    "plt.show()"
   ]
  },
  {
   "cell_type": "code",
   "execution_count": null,
   "id": "980370ae-041c-4b3b-8da5-7aa1635cfbf7",
   "metadata": {},
   "outputs": [],
   "source": []
  }
 ],
 "metadata": {
  "kernelspec": {
   "display_name": "Python 3 (ipykernel)",
   "language": "python",
   "name": "python3"
  },
  "language_info": {
   "codemirror_mode": {
    "name": "ipython",
    "version": 3
   },
   "file_extension": ".py",
   "mimetype": "text/x-python",
   "name": "python",
   "nbconvert_exporter": "python",
   "pygments_lexer": "ipython3",
   "version": "3.11.7"
  }
 },
 "nbformat": 4,
 "nbformat_minor": 5
}
